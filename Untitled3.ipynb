{
  "nbformat": 4,
  "nbformat_minor": 0,
  "metadata": {
    "colab": {
      "provenance": [],
      "authorship_tag": "ABX9TyP8UMqWfXYAY2FiTQBlIlfK",
      "include_colab_link": true
    },
    "kernelspec": {
      "name": "python3",
      "display_name": "Python 3"
    },
    "language_info": {
      "name": "python"
    }
  },
  "cells": [
    {
      "cell_type": "markdown",
      "metadata": {
        "id": "view-in-github",
        "colab_type": "text"
      },
      "source": [
        "<a href=\"https://colab.research.google.com/github/Kristiely/telecom-churn-prediction/blob/main/Untitled3.ipynb\" target=\"_parent\"><img src=\"https://colab.research.google.com/assets/colab-badge.svg\" alt=\"Open In Colab\"/></a>"
      ]
    },
    {
      "cell_type": "markdown",
      "source": [
        "\n",
        "\n",
        "---\n",
        "# 1. Introdução\n"
      ],
      "metadata": {
        "id": "muP5_xg9lnVN"
      }
    },
    {
      "cell_type": "code",
      "execution_count": null,
      "metadata": {
        "id": "8y8_jQdTlg1E"
      },
      "outputs": [],
      "source": []
    },
    {
      "cell_type": "markdown",
      "source": [
        "# 2. Importação dos dados"
      ],
      "metadata": {
        "id": "ZUne1OF1lq8x"
      }
    },
    {
      "cell_type": "code",
      "source": [],
      "metadata": {
        "id": "yiv1z_Y1lkJS"
      },
      "execution_count": null,
      "outputs": []
    },
    {
      "cell_type": "markdown",
      "source": [
        "# 3. Pré-processamento"
      ],
      "metadata": {
        "id": "yFAzEBRbluEr"
      }
    },
    {
      "cell_type": "code",
      "source": [],
      "metadata": {
        "id": "4n6Bige8lvxU"
      },
      "execution_count": null,
      "outputs": []
    },
    {
      "cell_type": "markdown",
      "source": [
        "# 4. Análise de Correlação"
      ],
      "metadata": {
        "id": "DRcq5jkwlxRt"
      }
    },
    {
      "cell_type": "code",
      "source": [],
      "metadata": {
        "id": "Gw3PFLbzlyON"
      },
      "execution_count": null,
      "outputs": []
    },
    {
      "cell_type": "markdown",
      "source": [
        "# 5. Seleção de Variáveis"
      ],
      "metadata": {
        "id": "kxN2nZ3ClztJ"
      }
    },
    {
      "cell_type": "code",
      "source": [],
      "metadata": {
        "id": "fYgC7dU7l06K"
      },
      "execution_count": null,
      "outputs": []
    },
    {
      "cell_type": "markdown",
      "source": [
        "# 6. Divisão Treino/Teste"
      ],
      "metadata": {
        "id": "Y8oijhrqmDek"
      }
    },
    {
      "cell_type": "code",
      "source": [],
      "metadata": {
        "id": "bgiDCPF2mGLv"
      },
      "execution_count": null,
      "outputs": []
    },
    {
      "cell_type": "markdown",
      "source": [
        "# 7. Modelagem"
      ],
      "metadata": {
        "id": "anapKWQ-mHbT"
      }
    },
    {
      "cell_type": "code",
      "source": [],
      "metadata": {
        "id": "57Bc_yLumJKf"
      },
      "execution_count": null,
      "outputs": []
    },
    {
      "cell_type": "markdown",
      "source": [
        "# 8. Avaliação"
      ],
      "metadata": {
        "id": "LBBF3YKomK8D"
      }
    },
    {
      "cell_type": "code",
      "source": [],
      "metadata": {
        "id": "YeBcQGhnmMDo"
      },
      "execution_count": null,
      "outputs": []
    },
    {
      "cell_type": "markdown",
      "source": [
        "# 9. Interpretação dos Resultados"
      ],
      "metadata": {
        "id": "hzgwURwRmNAi"
      }
    },
    {
      "cell_type": "code",
      "source": [],
      "metadata": {
        "id": "fA7v6Uk1mO8h"
      },
      "execution_count": null,
      "outputs": []
    },
    {
      "cell_type": "markdown",
      "source": [
        "# 10. Conclusão e Recomendações"
      ],
      "metadata": {
        "id": "xEvVPvOLmQOc"
      }
    },
    {
      "cell_type": "code",
      "source": [],
      "metadata": {
        "id": "1bBwEePbmRdi"
      },
      "execution_count": null,
      "outputs": []
    }
  ]
}